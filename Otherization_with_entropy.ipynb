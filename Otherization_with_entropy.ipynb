{
 "cells": [
  {
   "cell_type": "code",
   "execution_count": 299,
   "metadata": {
    "collapsed": false
   },
   "outputs": [
    {
     "name": "stdout",
     "output_type": "stream",
     "text": [
      "Populating the interactive namespace from numpy and matplotlib\n"
     ]
    }
   ],
   "source": [
    "import pandas as pd\n",
    "import numpy as np\n",
    "import matplotlib as mp\n",
    "%pylab inline"
   ]
  },
  {
   "cell_type": "markdown",
   "metadata": {},
   "source": [
    "### Creation of a test Dataframe"
   ]
  },
  {
   "cell_type": "code",
   "execution_count": 301,
   "metadata": {
    "collapsed": true
   },
   "outputs": [],
   "source": [
    "s = pd.Series(np.random.random(10000))\n",
    "df = pd.DataFrame(s)\n",
    "df.columns = [\"Feature\"]"
   ]
  },
  {
   "cell_type": "code",
   "execution_count": 302,
   "metadata": {
    "collapsed": false
   },
   "outputs": [
    {
     "data": {
      "text/html": [
       "<div>\n",
       "<table border=\"1\" class=\"dataframe\">\n",
       "  <thead>\n",
       "    <tr style=\"text-align: right;\">\n",
       "      <th></th>\n",
       "      <th>Feature</th>\n",
       "    </tr>\n",
       "  </thead>\n",
       "  <tbody>\n",
       "    <tr>\n",
       "      <th>0</th>\n",
       "      <td>0.062234</td>\n",
       "    </tr>\n",
       "    <tr>\n",
       "      <th>1</th>\n",
       "      <td>0.573790</td>\n",
       "    </tr>\n",
       "    <tr>\n",
       "      <th>2</th>\n",
       "      <td>0.104597</td>\n",
       "    </tr>\n",
       "    <tr>\n",
       "      <th>3</th>\n",
       "      <td>0.312247</td>\n",
       "    </tr>\n",
       "    <tr>\n",
       "      <th>4</th>\n",
       "      <td>0.631774</td>\n",
       "    </tr>\n",
       "  </tbody>\n",
       "</table>\n",
       "</div>"
      ],
      "text/plain": [
       "    Feature\n",
       "0  0.062234\n",
       "1  0.573790\n",
       "2  0.104597\n",
       "3  0.312247\n",
       "4  0.631774"
      ]
     },
     "execution_count": 302,
     "metadata": {},
     "output_type": "execute_result"
    }
   ],
   "source": [
    "df.head()"
   ]
  },
  {
   "cell_type": "code",
   "execution_count": 303,
   "metadata": {
    "collapsed": false
   },
   "outputs": [],
   "source": [
    "df['Target'] = df.Feature.apply(lambda x: 1 if x>0.5 else 0)"
   ]
  },
  {
   "cell_type": "code",
   "execution_count": 304,
   "metadata": {
    "collapsed": false
   },
   "outputs": [],
   "source": [
    "# We have a category A of middle size rather on 1, B is big but perfectly balanced, \\\n",
    "# C is small ands tends toward 0, D is the leftover.\n",
    "df['Feature'] = df.Feature.apply(lambda x: 'A' if (x>0.8 or x<0.05) \\\n",
    "                                 else 'B' if (x>0.3 and x<0.7) \\\n",
    "                                 else 'C' if ((x>0.2 and x<0.3) or (x<0.8 and x>0.78)) \\\n",
    "                                 else 'D')"
   ]
  },
  {
   "cell_type": "code",
   "execution_count": 305,
   "metadata": {
    "collapsed": false
   },
   "outputs": [
    {
     "data": {
      "text/html": [
       "<div>\n",
       "<table border=\"1\" class=\"dataframe\">\n",
       "  <thead>\n",
       "    <tr style=\"text-align: right;\">\n",
       "      <th></th>\n",
       "      <th>Feature</th>\n",
       "      <th>Target</th>\n",
       "    </tr>\n",
       "  </thead>\n",
       "  <tbody>\n",
       "    <tr>\n",
       "      <th>9990</th>\n",
       "      <td>B</td>\n",
       "      <td>0</td>\n",
       "    </tr>\n",
       "    <tr>\n",
       "      <th>9991</th>\n",
       "      <td>B</td>\n",
       "      <td>1</td>\n",
       "    </tr>\n",
       "    <tr>\n",
       "      <th>9992</th>\n",
       "      <td>B</td>\n",
       "      <td>1</td>\n",
       "    </tr>\n",
       "    <tr>\n",
       "      <th>9993</th>\n",
       "      <td>D</td>\n",
       "      <td>0</td>\n",
       "    </tr>\n",
       "    <tr>\n",
       "      <th>9994</th>\n",
       "      <td>B</td>\n",
       "      <td>0</td>\n",
       "    </tr>\n",
       "    <tr>\n",
       "      <th>9995</th>\n",
       "      <td>B</td>\n",
       "      <td>0</td>\n",
       "    </tr>\n",
       "    <tr>\n",
       "      <th>9996</th>\n",
       "      <td>A</td>\n",
       "      <td>1</td>\n",
       "    </tr>\n",
       "    <tr>\n",
       "      <th>9997</th>\n",
       "      <td>B</td>\n",
       "      <td>0</td>\n",
       "    </tr>\n",
       "    <tr>\n",
       "      <th>9998</th>\n",
       "      <td>B</td>\n",
       "      <td>1</td>\n",
       "    </tr>\n",
       "    <tr>\n",
       "      <th>9999</th>\n",
       "      <td>A</td>\n",
       "      <td>1</td>\n",
       "    </tr>\n",
       "  </tbody>\n",
       "</table>\n",
       "</div>"
      ],
      "text/plain": [
       "     Feature  Target\n",
       "9990       B       0\n",
       "9991       B       1\n",
       "9992       B       1\n",
       "9993       D       0\n",
       "9994       B       0\n",
       "9995       B       0\n",
       "9996       A       1\n",
       "9997       B       0\n",
       "9998       B       1\n",
       "9999       A       1"
      ]
     },
     "execution_count": 305,
     "metadata": {},
     "output_type": "execute_result"
    }
   ],
   "source": [
    "df.tail(10)"
   ]
  },
  {
   "cell_type": "code",
   "execution_count": 306,
   "metadata": {
    "collapsed": false
   },
   "outputs": [
    {
     "data": {
      "text/plain": [
       "B    3953\n",
       "A    2527\n",
       "D    2333\n",
       "C    1187\n",
       "Name: Feature, dtype: int64"
      ]
     },
     "execution_count": 306,
     "metadata": {},
     "output_type": "execute_result"
    }
   ],
   "source": [
    "df.Feature.value_counts()"
   ]
  },
  {
   "cell_type": "markdown",
   "metadata": {},
   "source": [
    "### Functions"
   ]
  },
  {
   "cell_type": "code",
   "execution_count": 308,
   "metadata": {
    "collapsed": true
   },
   "outputs": [],
   "source": [
    "\"\"\"\n",
    "Computes entropy of a category with respect to the target\n",
    "\"\"\"\n",
    "\n",
    "def compute_category_entropy(feature, target, category):\n",
    "    targets = target.unique()\n",
    "    probas = []\n",
    "    \n",
    "    for t in targets:\n",
    "        #We compute the probabilities, for a given category, to find it associated with each target\n",
    "        p = float(feature[feature[feature == category].index  & target[target == t].index].count()) / float(feature[feature == category].count())\n",
    "        probas.append(p)\n",
    "    \n",
    "    category_entropy = sum(-p*log(p) if p != 0 else 0 for p in probas)\n",
    "    category_ratio = feature[feature == category].count() / float(feature.count())\n",
    "\n",
    "    return (category_entropy,category_ratio)"
   ]
  },
  {
   "cell_type": "code",
   "execution_count": 314,
   "metadata": {
    "collapsed": true
   },
   "outputs": [],
   "source": [
    "\"\"\"\n",
    "Computes entropy of all the non-selected categories (the 'others')\n",
    "\"\"\"\n",
    "\n",
    "def compute_others_entropy(feature, target, selected_categories):\n",
    "    other_probas = []\n",
    "    targets = target.unique()\n",
    "    \n",
    "    #If there are no others, then entropy is 0\n",
    "    if feature[~feature.isin(selected_categories)].count() == 0:\n",
    "        return (0,0)\n",
    "    \n",
    "    for t in targets:\n",
    "        #We compute the probabilities for any other value to find it associated with each target\n",
    "        p = float(feature[feature[~feature.isin(selected_categories)].index  & target[target == t].index].count())\\\n",
    "            / float(feature[~feature.isin(selected_categories)].count())\n",
    "        other_probas.append(p)\n",
    "\n",
    "    other_entropy = sum(-p*log(p) if p != 0 else 0 for p in other_probas)\n",
    "    other_ratio = feature[~feature.isin(selected_categories)].count() / float(feature.count())\n",
    "    \n",
    "    return (other_entropy,other_ratio)"
   ]
  },
  {
   "cell_type": "code",
   "execution_count": null,
   "metadata": {
    "collapsed": true
   },
   "outputs": [],
   "source": [
    "\"\"\"\n",
    "Computes entropy given the individual entropies of each category and a set of selected categories\n",
    "\"\"\"\n",
    "\n",
    "def compute_entropy(entropies, feature, target, selected_categories):\n",
    "    #First we compute the entropy of the others\n",
    "    others_entropy,others_ratio = compute_others_entropy(feature, target, selected_categories)\n",
    "    print \"Computing entropy\"\n",
    "    print \"Others entropy : \"+str(others_entropy)+\" with ratio \"+str(others_ratio)\n",
    "    \n",
    "    selected_entropies = {k:v for k,v in entropies.iteritems() if k in selected_categories}\n",
    "    print \"Selected categories entropy : \"+str(selected_entropies)\n",
    "    \n",
    "    #We sum the entropies of all categories, modulated with their importance (the ratio)\n",
    "    entropy = sum(e[1] * e[0] for e in selected_entropies.values()) + others_entropy * others_ratio\n",
    "    \n",
    "    return entropy"
   ]
  },
  {
   "cell_type": "code",
   "execution_count": 315,
   "metadata": {
    "collapsed": false
   },
   "outputs": [],
   "source": [
    "def otherize_feature(feature, target, max_categories=0, max_entropy=0.): \n",
    "    selected_categories = []\n",
    "    categories = feature.unique()\n",
    "    categories_entropies = {}\n",
    "    \n",
    "    #We compute the entropy of each category\n",
    "    for c in categories:\n",
    "        categories_entropies[c]=compute_category_entropy(feature, target, c)\n",
    "    \n",
    "    print \"Base entropy computation\"\n",
    "    base_entropy = compute_entropy(categories_entropies, feature, target, selected_categories)\n",
    "    print \"Base entropy is : \"+str(base_entropy)\n",
    "    \n",
    "    while True:\n",
    "        if len(selected_categories) >= max_categories & max_categories != 0:\n",
    "            print \"Maximum number of categories reached, otherization complete\"\n",
    "            break\n",
    "        if entropy < max_entropy:\n",
    "            print \"Entropy treshold reached, otherization complete\"\n",
    "            break\n",
    "        \n",
    "        print \"\"\n",
    "        print \"Selected categories are \"+str(selected_categories)\n",
    "        print \"Base entropy : \"+str(base_entropy)\n",
    "        gains = []\n",
    "        \n",
    "        #We compute the entropy gain for each scenario where we select a category and put it out of the others\n",
    "        entropies = {}\n",
    "        for c in categories:\n",
    "            print \"Including category \"+c\n",
    "            new_entropy = compute_entropy(categories_entropies, feature, target, selected_categories+[c])\n",
    "            entropies[c] = new_entropy\n",
    "            print \"New entropy with \"+c+\" included would be: \"+str(new_entropy)\n",
    "            gain = base_entropy - new_entropy\n",
    "            gains.append(gain)\n",
    "            \n",
    "        #If there is a gain, we select the category with the best gain\n",
    "        if max(gains)>0:\n",
    "            j = gains.index(max(gains))\n",
    "            selected_categories.append(categories[j])\n",
    "            print \"\"\n",
    "            print \"Adding category \"+str(categories[j])\n",
    "            base_entropy = entropies[categories[j]]\n",
    "            categories = np.delete(categories, j)\n",
    "        else :\n",
    "            print \"No more entropy to gain, otherization complete\"\n",
    "            break\n",
    "            \n",
    "    return selected_categories"
   ]
  },
  {
   "cell_type": "code",
   "execution_count": 318,
   "metadata": {
    "collapsed": false
   },
   "outputs": [
    {
     "name": "stdout",
     "output_type": "stream",
     "text": [
      "Base entropy computation\n",
      "Computing entropy\n",
      "Others entropy : 0.693082199152 with ratio 1.0\n",
      "Selected categories entropy : {}\n",
      "Base entropy is : 0.693082199152\n",
      "\n",
      "Selected categories are []\n",
      "Base entropy : 0.693082199152\n",
      "Including category D\n",
      "Computing entropy\n",
      "Others entropy : 0.687734398048 with ratio 0.7667\n",
      "Selected categories entropy : {'D': (0.64965997927967822, 0.23330000000000001)}\n",
      "New entropy with D included would be: 0.67885163615\n",
      "Including category B\n",
      "Computing entropy\n",
      "Others entropy : 0.693002107918 with ratio 0.6047\n",
      "Selected categories entropy : {'B': (0.69314330885452535, 0.39529999999999998)}\n",
      "New entropy with B included would be: 0.693057924648\n",
      "Including category A\n",
      "Computing entropy\n",
      "Others entropy : 0.674906330777 with ratio 0.7473\n",
      "Selected categories entropy : {'A': (0.4946438510579233, 0.25269999999999998)}\n",
      "New entropy with A included would be: 0.629354002152\n",
      "Including category C\n",
      "Computing entropy\n",
      "Others entropy : 0.688322660535 with ratio 0.8813\n",
      "Selected categories entropy : {'C': (0.47689262324473636, 0.1187)}\n",
      "New entropy with C included would be: 0.663225915109\n",
      "\n",
      "Adding category A\n",
      "\n",
      "Selected categories are ['A']\n",
      "Base entropy : 0.629354002152\n",
      "Including category D\n",
      "Computing entropy\n",
      "Others entropy : 0.682747561574 with ratio 0.514\n",
      "Selected categories entropy : {'A': (0.4946438510579233, 0.25269999999999998), 'D': (0.64965997927967822, 0.23330000000000001)}\n",
      "New entropy with D included would be: 0.627494420977\n",
      "Including category B\n",
      "Computing entropy\n",
      "Others entropy : 0.607702525009 with ratio 0.352\n",
      "Selected categories entropy : {'A': (0.4946438510579233, 0.25269999999999998), 'B': (0.69314330885452535, 0.39529999999999998)}\n",
      "New entropy with B included would be: 0.612907339956\n",
      "Including category C\n",
      "Computing entropy\n",
      "Others entropy : 0.687421988881 with ratio 0.6286\n",
      "Selected categories entropy : {'A': (0.4946438510579233, 0.25269999999999998), 'C': (0.47689262324473636, 0.1187)}\n",
      "New entropy with C included would be: 0.613717117752\n",
      "\n",
      "Adding category B\n",
      "Maximum number of categories reached, otherization complete\n",
      "['A', 'B']\n"
     ]
    },
    {
     "data": {
      "text/plain": [
       "['A', 'B']"
      ]
     },
     "execution_count": 318,
     "metadata": {},
     "output_type": "execute_result"
    }
   ],
   "source": [
    "#Small test\n",
    "otherize_feature(df.Feature, df.Target, max_categories=2)"
   ]
  }
 ],
 "metadata": {
  "kernelspec": {
   "display_name": "Python 2",
   "language": "python",
   "name": "python2"
  },
  "language_info": {
   "codemirror_mode": {
    "name": "ipython",
    "version": 2
   },
   "file_extension": ".py",
   "mimetype": "text/x-python",
   "name": "python",
   "nbconvert_exporter": "python",
   "pygments_lexer": "ipython2",
   "version": "2.7.11"
  }
 },
 "nbformat": 4,
 "nbformat_minor": 0
}
